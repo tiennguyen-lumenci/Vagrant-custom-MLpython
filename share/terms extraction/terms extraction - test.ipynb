{
 "cells": [
  {
   "cell_type": "code",
   "execution_count": 19,
   "metadata": {},
   "outputs": [],
   "source": [
    "import subprocess\n",
    "import re"
   ]
  },
  {
   "cell_type": "code",
   "execution_count": 2,
   "metadata": {},
   "outputs": [
    {
     "data": {
      "text/plain": [
       "CompletedProcess(args=['pdf2txt.py', 'test1.pdf', '-o', 'test1.txt'], returncode=0)"
      ]
     },
     "execution_count": 2,
     "metadata": {},
     "output_type": "execute_result"
    }
   ],
   "source": [
    "subprocess.run([\"pdf2txt.py\", \"test1.pdf\", \"-o\",\"test1.txt\"])"
   ]
  },
  {
   "cell_type": "code",
   "execution_count": 167,
   "metadata": {},
   "outputs": [],
   "source": [
    "result = []\n",
    "result1 = []\n",
    "with open('test1.txt', 'r') as f:\n",
    "    flag = 0\n",
    "    flag2 = 0\n",
    "    cc = 0\n",
    "    tt = 0\n",
    "    cclist = []\n",
    "    ttlist = []\n",
    "    ttlistX =[]\n",
    "    ttlistY = []\n",
    "    cct=\"\"\n",
    "    ttt=\"\"\n",
    "    termC = 0\n",
    "    termC_ = 0\n",
    "    count = 0\n",
    "    for c,line in enumerate(f):\n",
    "        if line.find(\"IV.\")!=-1 and c > 100:\n",
    "            flag = 1\n",
    "            continue\n",
    "        if flag == 1:\n",
    "            #get court construction\n",
    "            if (cc == 0) and re.search(\"Court.*Construction$\",line) and (flag2 == 1):\n",
    "                cct+=line\n",
    "                cc = 1\n",
    "                flag2 = 0\n",
    "            elif cc >= 1:\n",
    "                if (cc >= 2) and re.search(\"^\\s*[A-Z0-9]{1,3}\\.\\s*\",line):\n",
    "                    cc = 0\n",
    "                    tt = 0\n",
    "                    count = 0\n",
    "                    ttlist.append(ttlistX)\n",
    "                    ttlistX=[]\n",
    "                    cclist.append(cct)\n",
    "                    cct=\"\"\n",
    "                elif (cc >= 2) and re.search(\"^\\s*\\n\",line):\n",
    "                    cc += 1\n",
    "                    cct+=line\n",
    "                elif (cc == 1) and re.search(\"\\w\\.\\W*\\s*\\n\",line):\n",
    "                    cc += 1\n",
    "                    cct+=line\n",
    "                else:\n",
    "                    cc = 1\n",
    "                    cct+=line\n",
    "            #--- end court construction ---\n",
    "            #get table\n",
    "            if (tt == 0) and re.search(\"^\\s*[A-Z]{1,2}\\.\",line):\n",
    "                if line.find(\"“\") != -1:\n",
    "                    flag2 = 1\n",
    "                    tt = 1\n",
    "                    termC_ = len([x for x in line.split() if (x.find(\"“\") != -1)])\n",
    "                    termC = 3*termC_\n",
    "            elif (tt == 1) and (count < termC):\n",
    "                if (count < termC_) and re.search(\"\\w+\",line):\n",
    "                    if line.find(\"Claim\") != -1:\n",
    "                        if count == 0:\n",
    "                            ttt = ttt.split(\"“\")\n",
    "                            c = 0\n",
    "                            s = ''\n",
    "                            temp = ttt[0].strip().split()\n",
    "                            while c < (len(temp)):\n",
    "                                if c%2 != 0:\n",
    "                                    s += temp[c]\n",
    "                                    ttlistX.append([s])\n",
    "                                    s =''\n",
    "                                else:\n",
    "                                    s += temp[c] + \" \"\n",
    "                                c += 1\n",
    "                            ttt = \"“\" + ttt[-1] + \" \"\n",
    "                        count += 1\n",
    "                        ttt += \" \".join(line.split())\n",
    "                        ttlistY.append(ttt)\n",
    "                        ttt = \"\"\n",
    "                    else:\n",
    "                        ttt += \" \".join(line.split()) + \" \"\n",
    "                elif (count >= termC_):\n",
    "                    if re.search(\"\\W\", line) and (ttt == \"\") and (count==termC_):\n",
    "                        ttt=\"\"\n",
    "                    if re.search(\"\\w\", line):\n",
    "                        ttt += \" \".join(line.split()) + \" \"\n",
    "                    elif re.search(\"\\W\", line) and (ttt != \"\"):\n",
    "                        count += 1\n",
    "                        ttt = ttt.strip()\n",
    "                        ttlistY.append(ttt)\n",
    "                        ttt = \"\"\n",
    "                if (count > 0) and (len(ttlistY)==termC_) and (len(ttlistX)==3):\n",
    "                    for x in ttlistY:\n",
    "                        ttlistX[(count//termC_)-1].append(x)\n",
    "                    ttlistY = [] \n",
    "            #--- end get table ---\n",
    "            if line.find(\"V.\")!=-1:\n",
    "                break\n",
    "\n",
    "    result.append(ttlist)\n",
    "    result.append(cclist)\n",
    "    #combine table\n",
    "    for i in ttlist[1:]:\n",
    "        for c,j in enumerate(i):\n",
    "            for c1,k in enumerate(j):\n",
    "                    ttlist[0][c].append(k)\n",
    "    result1.append(ttlist[0])\n",
    "    result1.append(cclist)"
   ]
  },
  {
   "cell_type": "code",
   "execution_count": 158,
   "metadata": {},
   "outputs": [],
   "source": [
    "import pickle"
   ]
  },
  {
   "cell_type": "code",
   "execution_count": 160,
   "metadata": {},
   "outputs": [],
   "source": [
    "with open('test1.pkl', 'wb') as f:\n",
    "    pickle.dump(result, f)"
   ]
  },
  {
   "cell_type": "code",
   "execution_count": 162,
   "metadata": {},
   "outputs": [],
   "source": [
    "with open('test1.pkl', 'rb') as f:\n",
    "    r = pickle.load(f)\n"
   ]
  },
  {
   "cell_type": "code",
   "execution_count": 170,
   "metadata": {},
   "outputs": [],
   "source": [
    "import pandas as pd"
   ]
  },
  {
   "cell_type": "code",
   "execution_count": 171,
   "metadata": {},
   "outputs": [
    {
     "data": {
      "text/plain": [
       "[[['Disputed Term',\n",
       "   '“replacing”  (Claim 1, 2)',\n",
       "   '“displacing” (Claim 2)',\n",
       "   '“contracting” (Claim 2)',\n",
       "   'Disputed Term',\n",
       "   '“indication of speech uttered”  (Claim 1)'],\n",
       "  ['Plaintiff’s Proposal',\n",
       "   '[No construction necessary]; or, if the Court deems a construction is necessary: “changing out”',\n",
       "   '[No construction necessary]; or, if the Court deems a construction is necessary: “taking the place of”',\n",
       "   '[No construction necessary]; or, if the Court deems a construction is necessary: “decreasing in size”',\n",
       "   'Plaintiff’s Proposal',\n",
       "   '[No construction necessary]; or, if the Court deems a construction is necessary: “a signal of speech”'],\n",
       "  ['Defendant’s Proposal',\n",
       "   '“using a noticeably gradual effect, taking the place of and taking off the screen”',\n",
       "   '“using a noticeably gradual effect, taking the place of and taking off the screen”',\n",
       "   '“using a noticeably gradual effect, decreasing in size and taking off the screen”',\n",
       "   'Defendant’s Proposal',\n",
       "   '“any momentary speech”']],\n",
       " ['3. Court’s Construction\\n\\nFor  the  reasons  set  forth  above,  the  Court  construes  the  term  “replacing”  to  mean \\n\\n“changeover using a noticeable and gradual transition.” The Court further construes the term \\n\\n“displacing” to mean “taking the place of,” and the term “contracting” to mean “decreasing \\n\\nin size.” \\n\\n',\n",
       "  '3. Court’s Construction\\n\\nFor  the  reasons  set  forth  above,  the  Court  construes  the  term  “indication  of  speech \\n\\nuttered” to mean “audible indication of speech uttered.” \\n\\n']]"
      ]
     },
     "execution_count": 171,
     "metadata": {},
     "output_type": "execute_result"
    }
   ],
   "source": [
    "result1"
   ]
  },
  {
   "cell_type": "code",
   "execution_count": 172,
   "metadata": {},
   "outputs": [
    {
     "data": {
      "text/html": [
       "<div>\n",
       "<style scoped>\n",
       "    .dataframe tbody tr th:only-of-type {\n",
       "        vertical-align: middle;\n",
       "    }\n",
       "\n",
       "    .dataframe tbody tr th {\n",
       "        vertical-align: top;\n",
       "    }\n",
       "\n",
       "    .dataframe thead th {\n",
       "        text-align: right;\n",
       "    }\n",
       "</style>\n",
       "<table border=\"1\" class=\"dataframe\">\n",
       "  <thead>\n",
       "    <tr style=\"text-align: right;\">\n",
       "      <th></th>\n",
       "      <th>0</th>\n",
       "      <th>1</th>\n",
       "      <th>2</th>\n",
       "    </tr>\n",
       "  </thead>\n",
       "  <tbody>\n",
       "    <tr>\n",
       "      <th>0</th>\n",
       "      <td>[Disputed Term, “replacing”  (Claim 1, 2), “di...</td>\n",
       "      <td>[Plaintiff’s Proposal, [No construction necess...</td>\n",
       "      <td>[Defendant’s Proposal, “using a noticeably gra...</td>\n",
       "    </tr>\n",
       "    <tr>\n",
       "      <th>1</th>\n",
       "      <td>[Disputed Term, “indication of speech uttered”...</td>\n",
       "      <td>[Plaintiff’s Proposal, [No construction necess...</td>\n",
       "      <td>[Defendant’s Proposal, “any momentary speech”]</td>\n",
       "    </tr>\n",
       "  </tbody>\n",
       "</table>\n",
       "</div>"
      ],
      "text/plain": [
       "                                                   0  \\\n",
       "0  [Disputed Term, “replacing”  (Claim 1, 2), “di...   \n",
       "1  [Disputed Term, “indication of speech uttered”...   \n",
       "\n",
       "                                                   1  \\\n",
       "0  [Plaintiff’s Proposal, [No construction necess...   \n",
       "1  [Plaintiff’s Proposal, [No construction necess...   \n",
       "\n",
       "                                                   2  \n",
       "0  [Defendant’s Proposal, “using a noticeably gra...  \n",
       "1     [Defendant’s Proposal, “any momentary speech”]  "
      ]
     },
     "execution_count": 172,
     "metadata": {},
     "output_type": "execute_result"
    }
   ],
   "source": [
    "df = pd.DataFrame(result[0])\n",
    "df"
   ]
  },
  {
   "cell_type": "code",
   "execution_count": 179,
   "metadata": {},
   "outputs": [],
   "source": [
    "df = pd.DataFrame(result[0][0]).T"
   ]
  },
  {
   "cell_type": "code",
   "execution_count": 184,
   "metadata": {},
   "outputs": [],
   "source": [
    "df.to_csv(\"test1_1.csv\",index=False)"
   ]
  },
  {
   "cell_type": "code",
   "execution_count": 182,
   "metadata": {},
   "outputs": [],
   "source": [
    "df1 = pd.DataFrame(result[1])"
   ]
  },
  {
   "cell_type": "code",
   "execution_count": 185,
   "metadata": {},
   "outputs": [],
   "source": [
    "df1.to_csv(\"test1_2.csv\",index=False)"
   ]
  },
  {
   "cell_type": "code",
   "execution_count": null,
   "metadata": {},
   "outputs": [],
   "source": []
  }
 ],
 "metadata": {
  "kernelspec": {
   "display_name": "Python 3",
   "language": "python",
   "name": "python3"
  },
  "language_info": {
   "codemirror_mode": {
    "name": "ipython",
    "version": 3
   },
   "file_extension": ".py",
   "mimetype": "text/x-python",
   "name": "python",
   "nbconvert_exporter": "python",
   "pygments_lexer": "ipython3",
   "version": "3.6.11"
  }
 },
 "nbformat": 4,
 "nbformat_minor": 4
}
